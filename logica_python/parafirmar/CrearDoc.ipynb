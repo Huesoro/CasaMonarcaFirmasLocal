{
 "cells": [
  {
   "cell_type": "code",
   "execution_count": 1,
   "id": "a4c55680",
   "metadata": {},
   "outputs": [],
   "source": [
    "import os\n",
    "from docx import Document\n",
    "from docx.shared import Inches\n",
    "from datetime import datetime\n",
    "import uuid"
   ]
  },
  {
   "cell_type": "code",
   "execution_count": 2,
   "id": "a2d65f4c",
   "metadata": {},
   "outputs": [],
   "source": [
    "DOCUMENTOS_PATH = \"documentos/\"\n",
    "FIRMAS_PATH = \"firmas/\"\n",
    "MACHOTES_PATH = \"machotes/\""
   ]
  },
  {
   "cell_type": "code",
   "execution_count": 3,
   "id": "66884c08",
   "metadata": {},
   "outputs": [],
   "source": [
    "def rellenar_campos_docx(path_machote, datos, id_documento):\n",
    "    \"\"\"\n",
    "    Rellena los campos {campo} en un documento .docx y guarda usando un ID único.\n",
    "\n",
    "    Args:\n",
    "        path_machote (str): Ruta del documento machote (.docx) a usar.\n",
    "        datos (dict): Diccionario con claves {campo} y sus valores correspondientes.\n",
    "        id_documento (str or int): ID único del documento (ejemplo: 123456)\n",
    "    \"\"\"\n",
    "    # Cargar el documento\n",
    "    doc = Document(path_machote)\n",
    "\n",
    "    # Reemplazar en cada párrafo\n",
    "    for p in doc.paragraphs:\n",
    "        for key, value in datos.items():\n",
    "            if key in p.text:\n",
    "                p.text = p.text.replace(key, str(value))\n",
    "\n",
    "    # Reemplazar dentro de tablas también\n",
    "    for table in doc.tables:\n",
    "        for row in table.rows:\n",
    "            for cell in row.cells:\n",
    "                for key, value in datos.items():\n",
    "                    if key in cell.text:\n",
    "                        cell.text = cell.text.replace(key, str(value))\n",
    "\n",
    "    # Definir ruta de salida basada en el ID\n",
    "    path_salida = os.path.join(DOCUMENTOS_PATH, f\"doc_{id_documento}.docx\")\n",
    "\n",
    "    # Guardar el documento rellenado en su nueva ruta\n",
    "    doc.save(path_salida)\n",
    "    return path_salida"
   ]
  },
  {
   "cell_type": "code",
   "execution_count": 4,
   "id": "f8a825d1",
   "metadata": {},
   "outputs": [],
   "source": [
    "def crear_documento_donacion(datos):\n",
    "    \"\"\"\n",
    "    Crea todo el flujo de generación del documento de donación.\n",
    "\n",
    "    Args:\n",
    "        path_machote (str): Ruta al machote de especie o dinero.\n",
    "        datos (dict): Diccionario de datos a rellenar.\n",
    "\n",
    "    Returns:\n",
    "        dict: Contiene el ID del documento, tipo de donación y fecha de donación.\n",
    "    \"\"\"\n",
    "    # 1. Generar ID\n",
    "    id_documento = uuid.uuid4()\n",
    "    \n",
    "     # 2. Determinar tipo de donación\n",
    "    if \"{monto_donado}\" in datos or \"monto_donado\" in datos:\n",
    "        tipo_donacion = \"dinero\"\n",
    "        path_machote = os.path.join(MACHOTES_PATH, \"Donacion_Dinero.docx\")\n",
    "    elif \"{lista_articulos}\" in datos or \"lista_articulos\" in datos:\n",
    "        tipo_donacion = \"especie\"\n",
    "        path_machote = os.path.join(MACHOTES_PATH, \"Donacion_Especie.docx\")\n",
    "    else:\n",
    "        tipo_donacion = \"desconocido\"  # En caso de error\n",
    "        \n",
    "    \n",
    "\n",
    "\n",
    "    # 3. Determinar la ruta del machote\n",
    "    path_final = rellenar_campos_docx(path_machote, datos, id_documento)\n",
    "\n",
    "   \n",
    "\n",
    "    # 4. Obtener fecha\n",
    "    fecha_donacion = datos.get(\"{fecha_donacion}\", datos.get(\"fecha_donacion\", \"fecha_desconocida\"))\n",
    "\n",
    "    return {\n",
    "        \"id_documento\": id_documento,\n",
    "        \"tipo_donacion\": tipo_donacion,\n",
    "        \"fecha_donacion\": fecha_donacion,\n",
    "        \"path_documento\": path_final\n",
    "    }"
   ]
  },
  {
   "cell_type": "code",
   "execution_count": 5,
   "id": "3c9ee380",
   "metadata": {},
   "outputs": [
    {
     "name": "stdout",
     "output_type": "stream",
     "text": [
      "{'id_documento': UUID('6993f3dc-f699-4cf0-a598-7f908a973257'), 'tipo_donacion': 'especie', 'fecha_donacion': '13 de May de 2025', 'path_documento': 'documentos/doc_6993f3dc-f699-4cf0-a598-7f908a973257.docx'}\n"
     ]
    }
   ],
   "source": [
    "today = datetime.now()\n",
    "fecha_hoy = today.strftime(\"%d de %B de %Y\")\n",
    "datos_donacion = {\n",
    "    \"{fecha_donacion}\": fecha_hoy,\n",
    "    \"{nombre_donante}\": \"Juan Pérez\",\n",
    "    \"{lista_articulos}\": \"- 10 paquetes de arroz\\n- 5 cobijas\\n- 3 cajas de medicamento\"\n",
    "}\n",
    "\n",
    "resultado = crear_documento_donacion(\n",
    "    datos=datos_donacion\n",
    ")\n",
    "\n",
    "print(resultado)\n"
   ]
  }
 ],
 "metadata": {
  "kernelspec": {
   "display_name": "CasaMonarca",
   "language": "python",
   "name": "python3"
  },
  "language_info": {
   "codemirror_mode": {
    "name": "ipython",
    "version": 3
   },
   "file_extension": ".py",
   "mimetype": "text/x-python",
   "name": "python",
   "nbconvert_exporter": "python",
   "pygments_lexer": "ipython3",
   "version": "3.13.2"
  }
 },
 "nbformat": 4,
 "nbformat_minor": 5
}
