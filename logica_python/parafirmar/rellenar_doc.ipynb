{
 "cells": [
  {
   "cell_type": "code",
   "execution_count": 1,
   "id": "16d2cff0",
   "metadata": {},
   "outputs": [],
   "source": [
    "import os\n",
    "from docx import Document\n",
    "from docx.shared import Inches\n",
    "from datetime import datetime\n",
    "import uuid"
   ]
  },
  {
   "cell_type": "markdown",
   "id": "b1065f66",
   "metadata": {},
   "source": [
    "# Bases de datos"
   ]
  },
  {
   "cell_type": "code",
   "execution_count": 2,
   "id": "936ed19e",
   "metadata": {},
   "outputs": [],
   "source": [
    "DOCUMENTOS_PATH = \"documentos/\"\n",
    "FIRMAS_PATH = \"firmas/\"\n",
    "MACHOTES_PATH = \"machotes/\""
   ]
  },
  {
   "cell_type": "code",
   "execution_count": 3,
   "id": "d401abe9",
   "metadata": {},
   "outputs": [],
   "source": [
    "base_usuarios = {\n",
    "    \"ana.lopez@casamonarca.org\": \"Ana López\",\n",
    "    \"carlos.ramirez@casamonarca.org\": \"Carlos Ramírez\",\n",
    "    \"maria.gonzalez@casamonarca.org\": \"María González\"\n",
    "}\n",
    "# Formato de firmas firmas/maria_dot_gonzalez_at_casamonarca_dot_org.png\n"
   ]
  },
  {
   "cell_type": "markdown",
   "id": "cbe8348b",
   "metadata": {},
   "source": [
    "# Codigo"
   ]
  },
  {
   "cell_type": "code",
   "execution_count": 4,
   "id": "175413de",
   "metadata": {},
   "outputs": [],
   "source": [
    "def normalizar_correo(correo):\n",
    "    return correo.strip().lower().replace(\"@\", \"_at_\").replace(\".\", \"_dot_\")"
   ]
  },
  {
   "cell_type": "code",
   "execution_count": 5,
   "id": "b078cdfa",
   "metadata": {},
   "outputs": [],
   "source": [
    "# En local\n",
    "def buscar_firma_por_correo(correo):\n",
    "    archivo = normalizar_correo(correo) + \".png\"\n",
    "    path = os.path.join(FIRMAS_PATH, archivo)\n",
    "    if not os.path.exists(path):\n",
    "        raise FileNotFoundError(f\"Firma no encontrada para {correo}\")\n",
    "    return path\n",
    "# En produccion base online\n",
    "\n",
    "# En local\n",
    "def buscar_nombre_por_correo(correo, base_usuarios):\n",
    "    return base_usuarios.get(correo, None)\n",
    "\n",
    "# En produccion pasarlo como parametro o buscarlo en azure\n",
    "\n",
    "# En local\n",
    "def obtener_documento_por_id(doc_id):\n",
    "    path = os.path.join(DOCUMENTOS_PATH, f\"doc_{doc_id}.docx\")\n",
    "    if not os.path.exists(path):\n",
    "        raise FileNotFoundError(f\"Documento con ID {doc_id} no encontrado\")\n",
    "    return path\n",
    "\n",
    "# En produccion pasarlo como parametro o buscarlo en azure\n",
    "\n",
    "\n"
   ]
  },
  {
   "cell_type": "code",
   "execution_count": 6,
   "id": "6a007fb3",
   "metadata": {},
   "outputs": [],
   "source": [
    "def insertar_firma_y_nombre_por_id(doc_id, correo, base_usuarios, placeholder_nombre, rol):\n",
    "    \"\"\"\n",
    "    Inserta la firma y nombre en un documento buscando por ID, y guarda sobre el mismo archivo.\n",
    "    \"\"\"\n",
    "    doc_path = obtener_documento_por_id(doc_id)\n",
    "    doc = Document(doc_path)\n",
    "\n",
    "    nombre = base_usuarios.get(correo)\n",
    "    if not nombre:\n",
    "        raise ValueError(f\"Nombre no encontrado para {correo}\")\n",
    "\n",
    "    firma_path = buscar_firma_por_correo(correo)\n",
    "\n",
    "    for table in doc.tables:\n",
    "        for row in table.rows:\n",
    "            for cell in row.cells:\n",
    "                for i, paragraph in enumerate(cell.paragraphs):\n",
    "                    if placeholder_nombre in paragraph.text:\n",
    "                        # Insertar firma\n",
    "                        parrafo_firma = cell.paragraphs[i].insert_paragraph_before()\n",
    "                        run = parrafo_firma.add_run()\n",
    "                        run.add_picture(firma_path, width=Inches(2))\n",
    "                        \n",
    "                        # Insertar una línea de firma si quieres que siempre esté\n",
    "                        parrafo_linea = paragraph.insert_paragraph_before()\n",
    "                        parrafo_linea.add_run(\"____________________\")\n",
    "\n",
    "                        # Reemplazar marcador por nombre + rol\n",
    "                        paragraph.text = f\"{rol}: {nombre}\\n(Personal autorizado)\"\n",
    "\n",
    "\n",
    "    # Guardar editando sobre el mismo documento\n",
    "    doc.save(doc_path)"
   ]
  },
  {
   "cell_type": "code",
   "execution_count": 7,
   "id": "852153c5",
   "metadata": {},
   "outputs": [],
   "source": [
    "insertar_firma_y_nombre_por_id(\n",
    "    doc_id=\"6993f3dc-f699-4cf0-a598-7f908a973257\",\n",
    "    correo=\"carlos.ramirez@casamonarca.org\",\n",
    "    base_usuarios=base_usuarios,\n",
    "    placeholder_nombre=\"{nombre_inventario}\",\n",
    "    rol=\"Aprobado por\")"
   ]
  }
 ],
 "metadata": {
  "kernelspec": {
   "display_name": "CasaMonarca",
   "language": "python",
   "name": "python3"
  },
  "language_info": {
   "codemirror_mode": {
    "name": "ipython",
    "version": 3
   },
   "file_extension": ".py",
   "mimetype": "text/x-python",
   "name": "python",
   "nbconvert_exporter": "python",
   "pygments_lexer": "ipython3",
   "version": "3.13.2"
  }
 },
 "nbformat": 4,
 "nbformat_minor": 5
}
