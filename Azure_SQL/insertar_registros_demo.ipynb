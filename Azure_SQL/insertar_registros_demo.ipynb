{
 "cells": [
  {
   "cell_type": "markdown",
   "metadata": {},
   "source": [
    "# Insertar registros demo"
   ]
  },
  {
   "cell_type": "code",
   "execution_count": 12,
   "metadata": {},
   "outputs": [],
   "source": [
    "# Hagamos la prueba para Usuarios.db\n",
    "import sqlite3\n",
    "import datetime as dt"
   ]
  },
  {
   "cell_type": "code",
   "execution_count": 3,
   "metadata": {},
   "outputs": [
    {
     "name": "stdout",
     "output_type": "stream",
     "text": [
      "Hash generado: 0f35a9714cdab52d58fa50124d52ee54bb6a9e189b0e94c80556bebc5a414f26\n"
     ]
    }
   ],
   "source": [
    "\n",
    "import hashlib\n",
    "\n",
    "password = \"Patito27?\"\n",
    "hashed_password = hashlib.sha256(password.encode()).hexdigest()\n",
    "print(f\"Hash generado: {hashed_password}\")  # Solo para demostración\n"
   ]
  },
  {
   "cell_type": "code",
   "execution_count": 19,
   "metadata": {},
   "outputs": [
    {
     "name": "stdout",
     "output_type": "stream",
     "text": [
      "Usuario insertado exitosamente\n"
     ]
    },
    {
     "name": "stderr",
     "output_type": "stream",
     "text": [
      "C:\\Users\\rkale\\AppData\\Local\\Temp\\ipykernel_26908\\3926252386.py:21: DeprecationWarning: The default datetime adapter is deprecated as of Python 3.12; see the sqlite3 documentation for suggested replacement recipes\n",
      "  cursor.execute(insert_query, user_data)\n"
     ]
    }
   ],
   "source": [
    "def insert_user(user_data):\n",
    "    \"\"\"\n",
    "    Inserta un nuevo usuario en la base de datos\n",
    "    \n",
    "    Args:\n",
    "        user_data (dict): Diccionario con los datos del usuario\n",
    "    \"\"\"\n",
    "    try:\n",
    "        # Conectar a la base de datos\n",
    "        conn = sqlite3.connect('Usuarios.db')\n",
    "        cursor = conn.cursor()\n",
    "        \n",
    "        # Preparar la consulta SQL\n",
    "        insert_query = \"\"\"\n",
    "        INSERT INTO usuarios (email, name, hashed_password, created_at, updated_at)\n",
    "        VALUES (:email, :name, :hashed_password, :created_at, :updated_at)\n",
    "        \"\"\"\n",
    "        \n",
    "        # Ejecutar la consulta\n",
    "        cursor.execute(insert_query, user_data)\n",
    "        \n",
    "        # Confirmar la transacción\n",
    "        conn.commit()\n",
    "        print(\"Usuario insertado exitosamente\")\n",
    "        \n",
    "    except sqlite3.Error as e:\n",
    "        print(f\"Error al insertar usuario: {e}\")\n",
    "        \n",
    "    finally:\n",
    "        # Cerrar la conexión\n",
    "        if conn:\n",
    "            conn.close()\n",
    "\n"
   ]
  },
  {
   "cell_type": "markdown",
   "metadata": {},
   "source": [
    "# Insertar registros a Documentos"
   ]
  },
  {
   "cell_type": "code",
   "execution_count": null,
   "metadata": {},
   "outputs": [],
   "source": [
    "def insert_doc(doc_data):\n",
    "    \"\"\"\n",
    "    Inserta un nuevo documento en la base de datos Documentos.db\n",
    "    \n",
    "    Args:\n",
    "        doc_data (dict): Diccionario con los datos del documento\n",
    "    \"\"\"\n",
    "    try:\n",
    "        # Conectar a la base de datos\n",
    "        conn = sqlite3.connect('Documentos.db')\n",
    "        cursor = conn.cursor()\n",
    "        \n",
    "        # Preparar la consulta SQL\n",
    "        insert_query = \"\"\"\n",
    "        INSERT INTO documentos (title, sharepoint_url, Type, status, user_id, created_at, updated_at)\n",
    "        VALUES (:title, :sharepoint_url, :Type, :status, :user_id, :created_at, :updated_at)\n",
    "        \"\"\"\n",
    "        \n",
    "        # Ejecutar la consulta\n",
    "        cursor.execute(insert_query, doc_data)\n",
    "        \n",
    "        # Confirmar la transacción\n",
    "        conn.commit()\n",
    "        print(\"Documento insertado exitosamente\")\n",
    "        \n",
    "    except sqlite3.Error as e:\n",
    "        print(f\"Error al insertar documento: {e}\")\n",
    "        \n",
    "    finally:\n",
    "        # Cerrar la conexión\n",
    "        if conn:\n",
    "            conn.close()"
   ]
  },
  {
   "cell_type": "markdown",
   "metadata": {},
   "source": [
    "## Insertar registros a donaciones\n"
   ]
  },
  {
   "cell_type": "code",
   "execution_count": null,
   "metadata": {},
   "outputs": [],
   "source": [
    "# Insertar donación de dinero\n",
    "def insert_donacion_dinero(don_data):\n",
    "    \"\"\"\n",
    "    Inserta una nueva donación de dinero en la base de datos DonacionesDinero.db\n",
    "    Args:\n",
    "        don_data (dict): Diccionario con los datos de la donación\n",
    "    \"\"\"\n",
    "    try:\n",
    "        conn = sqlite3.connect('DonacionesDinero.db')\n",
    "        cursor = conn.cursor()\n",
    "        insert_query = \"\"\"\n",
    "        INSERT INTO donacionesdinero (amount, user_id, created_at, updated_at, doc_id)\n",
    "        VALUES (:amount, :user_id, :created_at, :updated_at, :doc_id)\n",
    "        \"\"\"\n",
    "        cursor.execute(insert_query, don_data)\n",
    "        conn.commit()\n",
    "        print(\"Donación de dinero insertada exitosamente\")\n",
    "    except sqlite3.Error as e:\n",
    "        print(f\"Error al insertar donación de dinero: {e}\")\n",
    "    finally:\n",
    "        if conn:\n",
    "            conn.close()\n",
    "\n",
    "# Insertar donación de insumos\n",
    "def insert_donacion_insumos(insumo_data):\n",
    "    \"\"\"\n",
    "    Inserta una nueva donación de insumos en la base de datos DonacionesInsumos.db\n",
    "    Args:\n",
    "        insumo_data (dict): Diccionario con los datos de la donación de insumos\n",
    "    \"\"\"\n",
    "    try:\n",
    "        conn = sqlite3.connect('DonacionesInsumos.db')\n",
    "        cursor = conn.cursor()\n",
    "        insert_query = \"\"\"\n",
    "        INSERT INTO donacionesinsumos (amount, objeto, user_id, created_at, updated_at, doc_id)\n",
    "        VALUES (:amount, :objeto, :user_id, :created_at, :updated_at, :doc_id)\n",
    "        \"\"\"\n",
    "        cursor.execute(insert_query, insumo_data)\n",
    "        conn.commit()\n",
    "        print(\"Donación de insumos insertada exitosamente\")\n",
    "    except sqlite3.Error as e:\n",
    "        print(f\"Error al insertar donación de insumos: {e}\")\n",
    "    finally:\n",
    "        if conn:\n",
    "            conn.close()"
   ]
  }
 ],
 "metadata": {
  "kernelspec": {
   "display_name": "CasaMonarca",
   "language": "python",
   "name": "python3"
  },
  "language_info": {
   "codemirror_mode": {
    "name": "ipython",
    "version": 3
   },
   "file_extension": ".py",
   "mimetype": "text/x-python",
   "name": "python",
   "nbconvert_exporter": "python",
   "pygments_lexer": "ipython3",
   "version": "3.13.2"
  }
 },
 "nbformat": 4,
 "nbformat_minor": 2
}
