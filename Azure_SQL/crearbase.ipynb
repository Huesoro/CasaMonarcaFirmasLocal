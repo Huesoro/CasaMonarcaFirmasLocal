{
 "cells": [
  {
   "cell_type": "markdown",
   "metadata": {},
   "source": [
    "# Para crear una base de datos normalmente se haria en Azure SQL, pero vamos a simularlas en local"
   ]
  },
  {
   "cell_type": "code",
   "execution_count": 1,
   "metadata": {},
   "outputs": [],
   "source": [
    "import sqlite3\n"
   ]
  },
  {
   "cell_type": "markdown",
   "metadata": {},
   "source": [
    "## Base de usuarios"
   ]
  },
  {
   "cell_type": "code",
   "execution_count": 2,
   "metadata": {},
   "outputs": [],
   "source": [
    "#Generar un archivo de base de datos en local con sqlite3\n",
    "# Definir columnas\n",
    "conn = sqlite3.connect(\"Usuarios.db\")\n",
    "cursor = conn.cursor()\n",
    "cursor.execute(\"\"\"CREATE TABLE IF NOT EXISTS usuarios (user_id INTEGER PRIMARY KEY AUTOINCREMENT, role TEXT,\n",
    "                   email TEXT, name TEXT, hashed_password TEXT, created_at DATETIME, updated_at DATETIME)\"\"\")\n",
    "# Llamar cada vez que se hace una modificacion\n",
    "conn.commit()\n",
    "# Cerrar la conexión\n",
    "cursor.close()"
   ]
  },
  {
   "cell_type": "markdown",
   "metadata": {},
   "source": [
    "## Base de documentos"
   ]
  },
  {
   "cell_type": "code",
   "execution_count": 3,
   "metadata": {},
   "outputs": [],
   "source": [
    "# Generar el archivo de base de datos en local con sqlite3\n",
    "conn = sqlite3.connect(\"Documentos.db\")\n",
    "cursor = conn.cursor()\n",
    "cursor.execute(\"\"\"CREATE TABLE IF NOT EXISTS documentos (\n",
    "    doc_id TEXT PRIMARY KEY, -- UUID\n",
    "    title TEXT,\n",
    "    sharepoint_url TEXT,\n",
    "    Type TEXT,\n",
    "    status TEXT,\n",
    "    user_id INTEGER,\n",
    "    firma_actual TEXT,\n",
    "    created_at DATETIME,\n",
    "    updated_at DATETIME\n",
    ")\"\"\")\n",
    "# Llamar cada vez que se hace una modificacion\n",
    "conn.commit()\n",
    "# Cerrar la conexión\n",
    "cursor.close()"
   ]
  },
  {
   "cell_type": "markdown",
   "metadata": {},
   "source": [
    "## Base de donaciones"
   ]
  },
  {
   "cell_type": "code",
   "execution_count": 4,
   "metadata": {},
   "outputs": [],
   "source": [
    "# Generar el archivo de base de datos en local con sqlite3\n",
    "conn = sqlite3.connect(\"DonacionesDinero.db\")\n",
    "cursor = conn.cursor()\n",
    "cursor.execute(\"\"\"CREATE TABLE IF NOT EXISTS donacionesdinero (id INTEGER PRIMARY KEY AUTOINCREMENT,\n",
    "               amount FLOAT, user_id INTEGER, created_at DATETIME, updated_at DATETIME, doc_id TEXT)\"\"\")\n",
    "# Llamar cada vez que se hace una modificacion\n",
    "conn.commit()\n",
    "# Cerrar la conexión\n",
    "cursor.close()\n"
   ]
  },
  {
   "cell_type": "code",
   "execution_count": 5,
   "metadata": {},
   "outputs": [
    {
     "data": {
      "text/plain": [
       "[]"
      ]
     },
     "execution_count": 5,
     "metadata": {},
     "output_type": "execute_result"
    }
   ],
   "source": [
    "conn = sqlite3.connect(\"DonacionesDinero.db\")\n",
    "cursor = conn.cursor()\n",
    "query = cursor.execute(\"SELECT * FROM donacionesdinero\")\n",
    "\n",
    "#ver los resultados\n",
    "query.fetchall()\n"
   ]
  },
  {
   "cell_type": "code",
   "execution_count": 6,
   "metadata": {},
   "outputs": [],
   "source": [
    "# Generar el archivo de base de datos en local con sqlite3\n",
    "conn = sqlite3.connect(\"DonacionesInsumos.db\")\n",
    "cursor = conn.cursor()\n",
    "cursor.execute(\"\"\"CREATE TABLE IF NOT EXISTS donacionesinsumos (id INTEGER PRIMARY KEY AUTOINCREMENT,\n",
    "               amount FLOAT,objeto TEXT, user_id INTEGER, created_at DATETIME, updated_at DATETIME, doc_id TEXT)\"\"\")\n",
    "# Llamar cada vez que se hace una modificacion\n",
    "conn.commit()\n",
    "# Cerrar la conexión\n",
    "cursor.close()"
   ]
  },
  {
   "cell_type": "code",
   "execution_count": 7,
   "metadata": {},
   "outputs": [
    {
     "data": {
      "text/plain": [
       "[]"
      ]
     },
     "execution_count": 7,
     "metadata": {},
     "output_type": "execute_result"
    }
   ],
   "source": [
    "conn = sqlite3.connect(\"DonacionesInsumos.db\")\n",
    "cursor = conn.cursor()\n",
    "query = cursor.execute(\"SELECT * FROM donacionesinsumos\")\n",
    "\n",
    "#ver los resultados\n",
    "query.fetchall()\n"
   ]
  },
  {
   "cell_type": "code",
   "execution_count": 8,
   "metadata": {},
   "outputs": [],
   "source": [
    "# Generar el archivo de base de datos en local con sqlite3\n",
    "conn = sqlite3.connect(\"firmas.db\")\n",
    "cursor = conn.cursor()\n",
    "cursor.execute(\"\"\"CREATE TABLE IF NOT EXISTS firmas_documento (\n",
    "    id INTEGER PRIMARY KEY AUTOINCREMENT,\n",
    "    doc_id TEXT,\n",
    "    user_id INTEGER,\n",
    "    role TEXT,\n",
    "    fecha_firma DATETIME,\n",
    "    status TEXT, -- \"pendiente\", \"firmado\", \"rechazado\"\n",
    "    orden INTEGER, -- para saber el orden de firmas\n",
    "    comentario TEXT\n",
    ")\"\"\")\n",
    "# Llamar cada vez que se hace una modificacion\n",
    "conn.commit()\n",
    "# Cerrar la conexión\n",
    "cursor.close()"
   ]
  },
  {
   "cell_type": "code",
   "execution_count": 9,
   "metadata": {},
   "outputs": [
    {
     "data": {
      "text/plain": [
       "[]"
      ]
     },
     "execution_count": 9,
     "metadata": {},
     "output_type": "execute_result"
    }
   ],
   "source": [
    "conn = sqlite3.connect(\"Documentos.db\")\n",
    "cursor = conn.cursor()\n",
    "query = cursor.execute(\"SELECT * FROM documentos\")\n",
    "\n",
    "#ver los resultados\n",
    "query.fetchall()"
   ]
  },
  {
   "cell_type": "code",
   "execution_count": 10,
   "metadata": {},
   "outputs": [
    {
     "data": {
      "text/plain": [
       "[]"
      ]
     },
     "execution_count": 10,
     "metadata": {},
     "output_type": "execute_result"
    }
   ],
   "source": [
    "conn = sqlite3.connect(\"firmas.db\")\n",
    "cursor = conn.cursor()\n",
    "query = cursor.execute(\"SELECT * FROM firmas_documento\")\n",
    "\n",
    "#ver los resultados\n",
    "query.fetchall()"
   ]
  }
 ],
 "metadata": {
  "kernelspec": {
   "display_name": "class",
   "language": "python",
   "name": "python3"
  },
  "language_info": {
   "codemirror_mode": {
    "name": "ipython",
    "version": 3
   },
   "file_extension": ".py",
   "mimetype": "text/x-python",
   "name": "python",
   "nbconvert_exporter": "python",
   "pygments_lexer": "ipython3",
   "version": "3.12.9"
  }
 },
 "nbformat": 4,
 "nbformat_minor": 2
}
